{
 "cells": [
  {
   "cell_type": "code",
   "execution_count": 18,
   "id": "13aa99bb-6443-4ba7-9bc6-f76776cb7834",
   "metadata": {},
   "outputs": [],
   "source": [
    "import json\n",
    "import pandas as pd\n",
    "from pymongo import MongoClient\n",
    "import spacy\n",
    "from sentence_transformers import SentenceTransformer, util\n",
    "from tqdm import tqdm\n",
    "\n",
    "from pathlib import Path\n",
    "from dotenv import load_dotenv\n",
    "import os"
   ]
  },
  {
   "cell_type": "code",
   "execution_count": 24,
   "id": "2a8692fd-e73b-403a-b942-1ec25ca76d74",
   "metadata": {},
   "outputs": [],
   "source": [
    "# get path to ENV info pass words\n",
    "env_path = Path('../.env') \n",
    "load_dotenv(dotenv_path=env_path)\n",
    "\n",
    "mongo_url = os.getenv(\"MONGODB_URI\")\n",
    "db_name = os.getenv(\"DB_NAME\")\n"
   ]
  },
  {
   "cell_type": "code",
   "execution_count": 27,
   "id": "39129837-51bd-4072-8217-3e8c0ec4ab2c",
   "metadata": {},
   "outputs": [],
   "source": [
    "# Open server and get data\n",
    "client = MongoClient(mongo_url)\n",
    "db = client[db_name]\n",
    "collection = db['spanish_attempts']\n",
    "\n",
    "data = list(collection.find())"
   ]
  },
  {
   "cell_type": "code",
   "execution_count": 29,
   "id": "80bfbd5e-fb46-48b3-bf63-ec241bae1e7a",
   "metadata": {},
   "outputs": [
    {
     "name": "stdout",
     "output_type": "stream",
     "text": [
      "Total mistakes: 25\n"
     ]
    },
    {
     "data": {
      "text/html": [
       "<div>\n",
       "<style scoped>\n",
       "    .dataframe tbody tr th:only-of-type {\n",
       "        vertical-align: middle;\n",
       "    }\n",
       "\n",
       "    .dataframe tbody tr th {\n",
       "        vertical-align: top;\n",
       "    }\n",
       "\n",
       "    .dataframe thead th {\n",
       "        text-align: right;\n",
       "    }\n",
       "</style>\n",
       "<table border=\"1\" class=\"dataframe\">\n",
       "  <thead>\n",
       "    <tr style=\"text-align: right;\">\n",
       "      <th></th>\n",
       "      <th>original_sentence</th>\n",
       "      <th>corrected_sentence</th>\n",
       "      <th>original_mistake</th>\n",
       "      <th>correction</th>\n",
       "      <th>mistake_type</th>\n",
       "      <th>category</th>\n",
       "      <th>explanation</th>\n",
       "      <th>timestamp</th>\n",
       "    </tr>\n",
       "  </thead>\n",
       "  <tbody>\n",
       "    <tr>\n",
       "      <th>0</th>\n",
       "      <td>Me gusta haciendo proyectos que me encantan. E...</td>\n",
       "      <td>Me gusta hacer proyectos que me encantan. Ento...</td>\n",
       "      <td>haciendo</td>\n",
       "      <td>hacer</td>\n",
       "      <td>error</td>\n",
       "      <td>None</td>\n",
       "      <td>The verb 'gustar' is followed by an infinitive...</td>\n",
       "      <td>2025-09-15 13:35:44.266</td>\n",
       "    </tr>\n",
       "    <tr>\n",
       "      <th>1</th>\n",
       "      <td>Ella puede hablar acerca de sus trabajos pasad...</td>\n",
       "      <td>Ella puede hablar acerca de sus trabajos pasad...</td>\n",
       "      <td>decir</td>\n",
       "      <td>comentar</td>\n",
       "      <td>vocabulary</td>\n",
       "      <td>vocabulary</td>\n",
       "      <td>The word 'comentar' is more appropriate here a...</td>\n",
       "      <td>2025-09-15 13:43:26.877</td>\n",
       "    </tr>\n",
       "    <tr>\n",
       "      <th>2</th>\n",
       "      <td>Ella puede hablar acerca de sus trabajos pasad...</td>\n",
       "      <td>Ella puede hablar acerca de sus trabajos pasad...</td>\n",
       "      <td>decir acerca de alguien</td>\n",
       "      <td>comentar sobre alguien</td>\n",
       "      <td>preposition</td>\n",
       "      <td>preposition</td>\n",
       "      <td>The correct preposition to use with 'comentar'...</td>\n",
       "      <td>2025-09-15 13:43:26.877</td>\n",
       "    </tr>\n",
       "    <tr>\n",
       "      <th>3</th>\n",
       "      <td>Ella puede hablar acerca de sus trabajos pasad...</td>\n",
       "      <td>Ella puede hablar acerca de sus trabajos pasad...</td>\n",
       "      <td>traer</td>\n",
       "      <td>aportar</td>\n",
       "      <td>vocabulary</td>\n",
       "      <td>vocabulary</td>\n",
       "      <td>In this context, 'aportar' meaning 'contribute...</td>\n",
       "      <td>2025-09-15 13:43:26.877</td>\n",
       "    </tr>\n",
       "    <tr>\n",
       "      <th>4</th>\n",
       "      <td>Ella puede hablar acerca de sus trabajos pasad...</td>\n",
       "      <td>Ella puede hablar acerca de sus trabajos pasad...</td>\n",
       "      <td>veces</td>\n",
       "      <td>en ocasiones</td>\n",
       "      <td>vocabulary</td>\n",
       "      <td>vocabulary</td>\n",
       "      <td>'En ocasiones' meaning 'at times' fits better ...</td>\n",
       "      <td>2025-09-15 13:43:26.877</td>\n",
       "    </tr>\n",
       "  </tbody>\n",
       "</table>\n",
       "</div>"
      ],
      "text/plain": [
       "                                   original_sentence  \\\n",
       "0  Me gusta haciendo proyectos que me encantan. E...   \n",
       "1  Ella puede hablar acerca de sus trabajos pasad...   \n",
       "2  Ella puede hablar acerca de sus trabajos pasad...   \n",
       "3  Ella puede hablar acerca de sus trabajos pasad...   \n",
       "4  Ella puede hablar acerca de sus trabajos pasad...   \n",
       "\n",
       "                                  corrected_sentence         original_mistake  \\\n",
       "0  Me gusta hacer proyectos que me encantan. Ento...                 haciendo   \n",
       "1  Ella puede hablar acerca de sus trabajos pasad...                    decir   \n",
       "2  Ella puede hablar acerca de sus trabajos pasad...  decir acerca de alguien   \n",
       "3  Ella puede hablar acerca de sus trabajos pasad...                    traer   \n",
       "4  Ella puede hablar acerca de sus trabajos pasad...                    veces   \n",
       "\n",
       "               correction mistake_type     category  \\\n",
       "0                   hacer        error         None   \n",
       "1                comentar   vocabulary   vocabulary   \n",
       "2  comentar sobre alguien  preposition  preposition   \n",
       "3                 aportar   vocabulary   vocabulary   \n",
       "4            en ocasiones   vocabulary   vocabulary   \n",
       "\n",
       "                                         explanation               timestamp  \n",
       "0  The verb 'gustar' is followed by an infinitive... 2025-09-15 13:35:44.266  \n",
       "1  The word 'comentar' is more appropriate here a... 2025-09-15 13:43:26.877  \n",
       "2  The correct preposition to use with 'comentar'... 2025-09-15 13:43:26.877  \n",
       "3  In this context, 'aportar' meaning 'contribute... 2025-09-15 13:43:26.877  \n",
       "4  'En ocasiones' meaning 'at times' fits better ... 2025-09-15 13:43:26.877  "
      ]
     },
     "execution_count": 29,
     "metadata": {},
     "output_type": "execute_result"
    }
   ],
   "source": [
    "flattened_mistakes = []\n",
    "\n",
    "for doc in data:\n",
    "    timestamp = doc.get('timestamp')\n",
    "    original_sentence = doc.get('original')\n",
    "    corrected_sentence = doc.get('corrected')\n",
    "\n",
    "    for mistake in doc.get('mistakes', []):\n",
    "        category_value = mistake.get('category', None)\n",
    "        if isinstance(category_value, list):\n",
    "            category_value = category_value[0] if category_value else None\n",
    "        flattened_mistakes.append({\n",
    "            'original_sentence': original_sentence,\n",
    "            'corrected_sentence': corrected_sentence,\n",
    "            'original_mistake': mistake.get('original'),\n",
    "            'correction': mistake.get('correction'),\n",
    "            'mistake_type': mistake.get('type'),\n",
    "            'category': category_value,  # take first category\n",
    "            'explanation': mistake.get('explanation'),\n",
    "            'timestamp': timestamp\n",
    "        })\n",
    "\n",
    "mistakes_df = pd.DataFrame(flattened_mistakes)\n",
    "print(f\"Total mistakes: {len(mistakes_df)}\")\n",
    "mistakes_df.head()\n",
    "    "
   ]
  },
  {
   "cell_type": "code",
   "execution_count": 16,
   "id": "01e8e6ec-d574-4422-9a0d-4fb8e03b4e76",
   "metadata": {},
   "outputs": [
    {
     "name": "stderr",
     "output_type": "stream",
     "text": [
      "C:\\Users\\markb\\anaconda3\\envs\\tf-env\\lib\\site-packages\\huggingface_hub\\file_download.py:143: UserWarning: `huggingface_hub` cache-system uses symlinks by default to efficiently store duplicated files but your machine does not support them in C:\\Users\\markb\\.cache\\huggingface\\hub\\models--sentence-transformers--all-MiniLM-L6-v2. Caching files will still work but in a degraded version that might require more space on your disk. This warning can be disabled by setting the `HF_HUB_DISABLE_SYMLINKS_WARNING` environment variable. For more details, see https://huggingface.co/docs/huggingface_hub/how-to-cache#limitations.\n",
      "To support symlinks on Windows, you either need to activate Developer Mode or to run Python as an administrator. In order to activate developer mode, see this article: https://docs.microsoft.com/en-us/windows/apps/get-started/enable-your-device-for-development\n",
      "  warnings.warn(message)\n",
      "Xet Storage is enabled for this repo, but the 'hf_xet' package is not installed. Falling back to regular HTTP download. For better performance, install the package with: `pip install huggingface_hub[hf_xet]` or `pip install hf_xet`\n"
     ]
    }
   ],
   "source": [
    "# load spanish nlp model\n",
    "nlp = spacy.load('es_core_news_sm')\n",
    "\n",
    "# load similarity model \n",
    "similarity_model = SentenceTransformer('all-MiniLM-L6-v2')\n"
   ]
  },
  {
   "cell_type": "code",
   "execution_count": null,
   "id": "a77b9a6f-f422-42ca-aa56-f26b84401c9c",
   "metadata": {},
   "outputs": [],
   "source": []
  }
 ],
 "metadata": {
  "kernelspec": {
   "display_name": "Python (tf-env)",
   "language": "python",
   "name": "tf-env"
  },
  "language_info": {
   "codemirror_mode": {
    "name": "ipython",
    "version": 3
   },
   "file_extension": ".py",
   "mimetype": "text/x-python",
   "name": "python",
   "nbconvert_exporter": "python",
   "pygments_lexer": "ipython3",
   "version": "3.10.18"
  }
 },
 "nbformat": 4,
 "nbformat_minor": 5
}
